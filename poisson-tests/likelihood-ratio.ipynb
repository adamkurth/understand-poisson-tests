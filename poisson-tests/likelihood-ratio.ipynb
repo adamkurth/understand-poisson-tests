{
 "cells": [
  {
   "cell_type": "markdown",
   "metadata": {},
   "source": [
    "Likelihood Ratio Test Guide\n",
    "---------------------------\n",
    "\n",
    "\n",
    "### Introduction\n",
    "\n",
    "The usual setting to learn Likelihood Ratio Test (LRT)/LR statistic is evaluting under the simple null hypothesis. Suppose that the parameter $\\theta_0$ is the value of the parameter under the null hypothesis, and $\\hat{\\theta}$ is the MLE estimate of the parameter in question. The likelihood ratio test is a statistical test which measures the ratio of the two likelihood functions. \n",
    "\n",
    "<p align=\"center\">\n",
    "  <img width=\"400\" height=\"250\" src=\"https://stats.idre.ucla.edu/wp-content/uploads/2016/02/nested_tests.gif\">\n",
    "</p>\n",
    "\n",
    "Visually, this ratio can be understood as the proportion of the heights of the two likelihood functions evaluated at each $\\theta_0, \\hat{\\theta}$, where the likelihood function is the probability of the observed data given the parameter. \n",
    "\n",
    "$$\n",
    "\\begin{align*}\n",
    "  \\ell_0 &= L_0(x_1,\\cdots, x_n; \\theta_0) = \\prod_{i=1}^{n} f(x_i|\\theta_0) \\\\\n",
    "  \\ell_1 &= L_1(x_1,\\cdots, x_n; \\hat{\\theta}) = \\prod_{i=1}^{n} f(x_i|\\hat{\\theta})\n",
    "\\end{align*}\n",
    "$$\n",
    "\n",
    "To perform the LRT, we choose a constant $c$ such that the likelihood ratio test statistic $\\lambda$ is defined as:\n",
    "\n",
    "$$\n",
    "\\begin{align*}\n",
    "  \\lambda &= \\frac{\\ell_1}{\\ell_0} = \\frac{L_1(\\hat{\\theta})}{L_0(\\theta_0)} =\\frac{\\max_{\\theta} L(\\theta)}{\\max_{\\theta \\in \\Theta_0} L(\\theta)} \\\\\n",
    "\\end{align*}\n",
    "$$\n",
    "\n",
    "where $\\Theta_0$ is the parameter space under the null hypothesis. \n",
    "\n",
    "Under the LRT, if $\\lambda > c$, we reject the null hypothesis, and if $\\lambda \\leq c$, we fail to reject the null hypothesis. The value of $c$ is chosen such that the Type I error rate is controlled at a certain level, usually $\\alpha = 0.05$. This test statistic is a measure of how much more likely the data are under the alternative hypothesis than under the null hypothesis.\n",
    "\n",
    "\n",
    "### Generalized Likelihood Ratio Test\n",
    "\n",
    "Suppose that the tests are not simple.\n",
    "Let $S$ be the set of all possible values for the parameter $\\theta$, suppose too that we can partition this set into two disjoint sets $S_0$ and $S_1$ such that $S_0 \\cup S_1 = S$ and $S_0 \\cap S_1 = \\emptyset$. Therefore the test is defined as:\n",
    "\n",
    "$$\n",
    "\\begin{align*}\n",
    "  H_0: \\theta \\in S_0 \\\\\n",
    "  H_1: \\theta \\in S_1\n",
    "\\end{align*}\n",
    "$$\n",
    "\n",
    "Find the likelihoods corresponding to the most likely values of $\\theta \\in S_0$ and $S$ respectively. As before we define the likelihoods as: \n",
    "\n",
    "$$\n",
    "\\begin{align*}\n",
    "  \\ell_0 &= \\sup\\{ L(x_1, \\cdots, x_n; \\theta) \\mid \\theta \\in S_0 \\}\\\\\n",
    "  \\ell_1 &= \\sup\\{ L(x_1, \\cdots, x_n; \\theta) \\mid \\theta \\in S \\}\\\\\n",
    "\\end{align*}\n",
    "$$\n",
    "\n",
    "We still choose a constant $c \\in [0,1]$ such that the generalized likelihood ratio test statistic $\\Lambda$ is defined as:\n",
    "\n",
    "$$\n",
    "\\begin{align*}\n",
    "  \\Lambda &= \\frac{\\ell_1}{\\ell_0} = \\frac{\\sup\\{ L(x_1, \\cdots, x_n; \\theta) \\mid \\theta \\in S_0 \\}}{\\sup\\{ L(x_1, \\cdots, x_n; \\theta) \\mid \\theta \\in S \\}} \\\\\n",
    "\\end{align*}\n",
    "$$\n",
    "\n",
    "Under the GLRT, if $\\Lambda > c$, we reject the null hypothesis, and if $\\Lambda \\leq c$, we fail to reject the null hypothesis. The value of $c$ is chosen such that the Type I error rate is controlled at a certain level, usually $\\alpha = 0.05$."
   ]
  },
  {
   "cell_type": "markdown",
   "metadata": {},
   "source": [
    "Another formulation of LRT/GLRT is defined as:\n",
    "$$\n",
    "\\begin{align*}\n",
    "    LR = -2( \\log L(\\hat{\\theta}_{MLE})  - \\log L(\\theta_0)  ) \\overset{H_0}{\\sim} \\chi^2_{df}\n",
    "\\end{align*}\n",
    "$$\n",
    "\n",
    "$$ \n",
    "\\begin{align*}\n",
    "    H_0: \\theta = \\theta_0 \\\\ \n",
    "    H_1: \\theta > \\theta_0\n",
    "\\end{align*} \n",
    "$$\n",
    "\n",
    "Different from the previous formulation, this formulation is used when the null hypothesis is not simple. The test statistic is the difference between the log-likelihood of the MLE and the log-likelihood of the null hypothesis. This difference is then compared to a $\\chi^2$ distribution with degrees of freedom equal to the difference in the number of parameters between the null and alternative hypotheses.\n",
    "\n",
    "The exact same intuition applies."
   ]
  },
  {
   "cell_type": "markdown",
   "metadata": {},
   "source": [
    "References\n",
    "----------\n",
    "\n",
    "[8.4.5 Likelihood Ratio Tests](https://www.probabilitycourse.com/chapter8/8_4_5_likelihood_ratio_tests.php)"
   ]
  },
  {
   "cell_type": "code",
   "execution_count": null,
   "metadata": {},
   "outputs": [],
   "source": [
    "<p align=\"center\">\n",
    "  <img width=\"400\" height=\"250\" src=\"https://stats.idre.ucla.edu/wp-content/uploads/2016/02/nested_tests.gif\">\n",
    "</p>"
   ]
  },
  {
   "cell_type": "markdown",
   "metadata": {},
   "source": []
  },
  {
   "cell_type": "code",
   "execution_count": null,
   "metadata": {},
   "outputs": [],
   "source": []
  }
 ],
 "metadata": {
  "kernelspec": {
   "display_name": "myenv",
   "language": "python",
   "name": "python3"
  },
  "language_info": {
   "codemirror_mode": {
    "name": "ipython",
    "version": 3
   },
   "file_extension": ".py",
   "mimetype": "text/x-python",
   "name": "python",
   "nbconvert_exporter": "python",
   "pygments_lexer": "ipython3",
   "version": "3.12.4"
  }
 },
 "nbformat": 4,
 "nbformat_minor": 2
}
