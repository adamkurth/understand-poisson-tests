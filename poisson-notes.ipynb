{
 "cells": [
  {
   "cell_type": "markdown",
   "metadata": {},
   "source": [
    "Rosner, Bernard. \"Fundamentals of Biostatistics.\" 8th Edition\n",
    "============================================================\n",
    "\n",
    "- 4.10 the Poisson distribution / 90\n",
    "\n",
    "- 4.11 Computation of Poisson Probabilities / 93\n",
    "\n",
    "- 4.12 expected value and variance of the Poisson distribution / 95\n",
    "\n",
    "- 4.13 Poisson Approximation to the Binomial distribution / 96\n",
    "\n",
    "- 5.8 normal Approximation to the Poisson distribution / 135 \n",
    "\n",
    "- 6.9 estimation for the Poisson distribution / 189 \n",
    "\n",
    "- 7.11 one-Sample inference for the Poisson distribution / 251\n",
    "\n",
    "- 8 Confidence Limits for the expectation of a Poisson variable (μ) / 827"
   ]
  },
  {
   "cell_type": "markdown",
   "metadata": {},
   "source": [
    "Notes 4.10 the Poisson distribution / 90\n",
    "------------------------------------\n",
    "- The Poisson distribution is a discrete probability distribution that expresses the probability of a given number of events occurring in a fixed interval of time or space. Usually associated with rare events, and is perhaps the second most used after the binomial distribution.\n",
    "- Rare events over time, and over surface area are common applicaitons of the Poisson distribution.\n",
    "\n",
    "Assumptions 4.1:\n",
    "1. the prob. of observing 1 death is directly proportional to the length of time in the interval $\\Delta t$. i.e. $P(1 death) \\approx \\lambda \\Delta t$ for some constant $\\lambda$.\n",
    "2. the prob. of observing 0 deaths over $\\Delta t$  is approximately $1-\\lambda \\Delta t$. \n",
    "3. The prob. of ovserving more than 1 death over this time interval is essentially 0.\n",
    "\n",
    "\n",
    "Assumptions 4.2:  \n",
    "**Stationary**: Assume the number of deaths per unit time is the same throughout the entire interval. Thus an increase in the indicent of the disease as time goes on within the time period $t$ would violate this assumption. Notice that $t$ should not be overly long because this assumption is less likely to hold as $t$ increases.\n",
    "\n",
    "Assumption 4.3:\n",
    "**Independence**: If a number of deaths occur within one time subinterval, then it has no bearing on the probability of death in the next time subinterval. Would be violated in epidemic situations if a new case of the disease occurs, then subsequent dealths are likely to build up over a short period of time until after the epidemic subsides.\n",
    "\n",
    "Formal Equation 4.8:\n",
    "The probability of observing $k$ events occuring in a time period of $t$ for a Poisson r.v. with parameter $\\lambda$ is\n",
    "\n",
    "$$P(X=k) = \\frac{e^{-\\lambda}(\\lambda)^k}{k!} \\quad k = 0,1,2,\\dots$$ \n",
    "\n",
    "where $\\mu = \\lambda t$ and $e$ is the base of the natural logarithm.\n",
    "\n",
    "- $\\lambda$ the expected number of events over a time period $t$, and the difference between the Poisson and binomial distribution concerns the number of trials and events. Binomial distribution has finite $n$ trials, and the Poisson distribution has indefinitely large. "
   ]
  },
  {
   "cell_type": "markdown",
   "metadata": {},
   "source": [
    "Notes on 4.12 Expected Value and Variance of the Poisson Distribution / 95\n",
    "-------------------------------------------------------------------------\n",
    "\n",
    "- an important guideline in which to identify r.v.s that follow a Poisson distribution is stated: \n",
    "  \n",
    "  For a Poisson distribution with parameter $\\mu$ the mean and variance are both equal to $\\mu$.\n",
    "\n",
    "- This is quickly identifiable of a Poisson dist. \n",
    "\n",
    "Notes on 4.13 Poisson Approximation to the Binomial Distribution / 96\n",
    "---------------------------------------------------------------------\n",
    "- An important use for the Poisson distribution is as an approximation to the binomial distribution. Consider for llarge $n$ and small $p$, the mean of this distribution is $\\mu = np$ and the variance is $\\sigma^2 = np(1-p) = npq$. Note that $q \\approx 1$  for small $p$ and thus $npq \\approx np$. Almost equal in this case suggesting the following. \n",
    "  \n",
    "  Poisson Approximation to the Binomial Distribution: The binomial distribution with large $n$ and small $p$ can be accurately approximated by a Poisson distribution with parameter $\\mu = np$.\n",
    "\n",
    "- The notation for a binomial dist. requires ($n$ choose $k$), $P(X=k)$ which can be cumbersome for large $n$. \n",
    "\n",
    "- A conservative rule for how large $n$ and $p$ should be is: $n \\geq 100$ and $p \\leq 0.1$."
   ]
  },
  {
   "cell_type": "markdown",
   "metadata": {},
   "source": [
    "Notes on 5.8 Normal Approximation to the Poisson Distribution / 135\n",
    "-------------------------------------------------------------------\n",
    "- The normal dist. can be used to approximate discrete distributions other than the binomial, such as the Poisson. The primary motivation is that the Poisson distribution is cumbersome to use for large $\\mu$. \n",
    "- Same technique is used for the binomial distribution; the mean and variance of the Poisson distribution and the approximating normal distribution are equated.\n",
    "\n",
    "Equation 5.16: \n",
    "A Poisson distribution with parameter $\\mu$ is approximated by a normal distribution with mean and variance both equal to $\\mu$. $P(X = x)$ is approximated by the area under $N(\\mu,\\mu)$ density from $x - \\frac{1}{2}$ to $x + \\frac{1}{2}$ for $x = 0$. This approximation is used when $\\mu \\geq 10$."
   ]
  },
  {
   "cell_type": "markdown",
   "metadata": {},
   "source": [
    "Notes on 6.9 Estimation for the Poisson Distribution / 189\n",
    "---------------------------------------------------------\n",
    "- Following the example, let $X$ be the number of children who developed leukemia in Woburn during the 1970s. $X$ represents a rare event, we assume it follows a Poisson distribution with parameter $\\mu = \\lambda T$. We know, $E(X) = \\lambda T$ where $T$ is time, and $\\lambda$ is the number of events per unit time.\n",
    "\n",
    "- A **person-year** is a unit of time defined as 1 peerson being followed for 1 year. \n",
    "\n",
    "- The **incidence rate** is the number of new cases of a disease that occur during a specified period of time in a population at risk for developing the disease. The incidence rate is often expressed as the number of new cases per 100,000 person-years.\n",
    "\n",
    "Equation 6.22: Point Estimation of for the Poisson Distribution\n",
    "- Assume that the number of events $X$ over $T$ person-years is Poisson distributed with parameter $\\mu = \\lambda T$. An unbiases estimator of $\\lambda$ is given by $\\hat{\\lambda} = X/T$ where $X$ is the number of events over $T$ person-years.\n",
    "- If $\\lambda$ is the incidence rate per person-year, $T$ = the number of person-years of follow-up and we assume that a Poisson distribution for the number of events $X$ over $T$ person-years, then the expected value of $X$ is given by $E(X) = \\lambda T$ Therefore,\n",
    "$$E(\\hat{\\lambda}) = E(X) / T = \\lambda T/T = \\lambda$$\n",
    "\n",
    "Thus, $\\hat{\\lambda}$ is an unbiased estimator of $\\lambda$.\n",
    "\n",
    "\n",
    "Interval Estimation: \n",
    "- How to obtain interval estimate for $\\lambda$? Use similar techniques as for the binomial distribution of $p$. First, obtain CI for $\\mu$ = expected number of events over time $T$ of the form $(\\mu_1,\\mu_2)$ then obtain corresponding CI for $\\lambda$ from $(\\mu_1/T,\\mu_2/T)$.\n",
    "\n",
    "Exact Method for Obtaining CI for the Poisson Parameter $\\lambda$:\n",
    "\n",
    "An exact $100%(1-\\alpha)$ CI for the Poisson parameter $\\lambda$ is given by $(\\mu_1/T, \\mu/T)$ where $\\mu_1$ and $\\mu_2$ satisfy the equations:\n",
    "\n",
    "$\\begin{align}\n",
    "    P(X \\leq x | \\mu = \\mu_1) &= \\frac{\\alpha}{2}\\sum_{i=1}^{\\infty}e^{-\\mu_1}\\frac{\\mu_1^k}{k!}\\\\\n",
    "    P(X \\leq x | \\mu = \\mu_2) &= 1 - \\frac{\\alpha}{2}\\sum_{i=1}^{\\infty}e^{-\\mu_2}\\frac{\\mu_2^k}{k!}\\\\\n",
    "\\end{align}$\n",
    "\n",
    "and $x$ = the number of observed events, $T$ = the number of person-years of follow-up, and $\\alpha$ = the desired level of significance."
   ]
  },
  {
   "cell_type": "markdown",
   "metadata": {},
   "source": [
    "Notes on 7.11 One-Sample Inference for the Poisson Distribution / 251\n",
    "---------------------------------------------------------------------\n"
   ]
  },
  {
   "cell_type": "markdown",
   "metadata": {},
   "source": []
  }
 ],
 "metadata": {
  "language_info": {
   "name": "python"
  }
 },
 "nbformat": 4,
 "nbformat_minor": 2
}
